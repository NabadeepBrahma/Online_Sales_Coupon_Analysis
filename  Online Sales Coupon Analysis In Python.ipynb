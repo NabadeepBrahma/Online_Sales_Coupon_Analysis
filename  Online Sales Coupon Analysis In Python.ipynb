{
 "cells": [
  {
   "cell_type": "code",
   "execution_count": null,
   "id": "55f42c5f-e866-401e-ba09-654e38667b20",
   "metadata": {},
   "outputs": [],
   "source": [
    "#note down\n",
    "#load the dataset according to their correct path"
   ]
  },
  {
   "cell_type": "code",
   "execution_count": 3,
   "id": "57cb393a-1a43-4d75-99b1-8fc158ce4103",
   "metadata": {},
   "outputs": [],
   "source": [
    "# 1. Load train dataset (Main dataset)\n",
    "train = pd.read_csv(r\"C:\\Users\\nabad\\Documents\\Online Sales Coupon Analysis In Python\\train.csv\")\n",
    "\n",
    "# 2. Load customer transaction data (Purchase details)\n",
    "customer_transaction = pd.read_csv(r\"C:\\Users\\nabad\\Documents\\Online Sales Coupon Analysis In Python\\customer_transaction_data.csv\")\n",
    "\n",
    "# 3. Load customer demographics (Customer information)\n",
    "customer_demographics = pd.read_csv(r\"C:\\Users\\nabad\\Documents\\Online Sales Coupon Analysis In Python\\customer_demographics.csv\")\n",
    "\n",
    "# 4. Load coupon-item mapping (Which items belong to which coupon)\n",
    "coupon_item_mapping = pd.read_csv(r\"C:\\Users\\nabad\\Documents\\Online Sales Coupon Analysis In Python\\coupon_item_mapping.csv\")\n",
    "\n",
    "# 5. Load campaign data (Details of campaigns)\n",
    "campaign_data = pd.read_csv(r\"C:\\Users\\nabad\\Documents\\Online Sales Coupon Analysis In Python\\campaign_data.csv\")\n",
    "\n",
    "# 6. Load item data (Product details like brand, category)\n",
    "item_data = pd.read_csv(r\"C:\\Users\\nabad\\Documents\\Online Sales Coupon Analysis In Python\\item_data.csv\")\n"
   ]
  },
  {
   "cell_type": "code",
   "execution_count": null,
   "id": "01afd6c8-e375-48da-813e-70e4585d8e6d",
   "metadata": {},
   "outputs": [],
   "source": [
    "#note down\n",
    "#checking if the dataset loaded correctly"
   ]
  },
  {
   "cell_type": "code",
   "execution_count": 4,
   "id": "addfb414-f406-4605-aad7-c04bb9272578",
   "metadata": {},
   "outputs": [
    {
     "name": "stdout",
     "output_type": "stream",
     "text": [
      "\n",
      "Train Dataset:\n"
     ]
    },
    {
     "data": {
      "text/html": [
       "<div>\n",
       "<style scoped>\n",
       "    .dataframe tbody tr th:only-of-type {\n",
       "        vertical-align: middle;\n",
       "    }\n",
       "\n",
       "    .dataframe tbody tr th {\n",
       "        vertical-align: top;\n",
       "    }\n",
       "\n",
       "    .dataframe thead th {\n",
       "        text-align: right;\n",
       "    }\n",
       "</style>\n",
       "<table border=\"1\" class=\"dataframe\">\n",
       "  <thead>\n",
       "    <tr style=\"text-align: right;\">\n",
       "      <th></th>\n",
       "      <th>id</th>\n",
       "      <th>campaign_id</th>\n",
       "      <th>coupon_id</th>\n",
       "      <th>customer_id</th>\n",
       "      <th>redemption_status</th>\n",
       "    </tr>\n",
       "  </thead>\n",
       "  <tbody>\n",
       "    <tr>\n",
       "      <th>0</th>\n",
       "      <td>1</td>\n",
       "      <td>13</td>\n",
       "      <td>27</td>\n",
       "      <td>1053</td>\n",
       "      <td>0</td>\n",
       "    </tr>\n",
       "    <tr>\n",
       "      <th>1</th>\n",
       "      <td>2</td>\n",
       "      <td>13</td>\n",
       "      <td>116</td>\n",
       "      <td>48</td>\n",
       "      <td>0</td>\n",
       "    </tr>\n",
       "    <tr>\n",
       "      <th>2</th>\n",
       "      <td>6</td>\n",
       "      <td>9</td>\n",
       "      <td>635</td>\n",
       "      <td>205</td>\n",
       "      <td>0</td>\n",
       "    </tr>\n",
       "    <tr>\n",
       "      <th>3</th>\n",
       "      <td>7</td>\n",
       "      <td>13</td>\n",
       "      <td>644</td>\n",
       "      <td>1050</td>\n",
       "      <td>0</td>\n",
       "    </tr>\n",
       "    <tr>\n",
       "      <th>4</th>\n",
       "      <td>9</td>\n",
       "      <td>8</td>\n",
       "      <td>1017</td>\n",
       "      <td>1489</td>\n",
       "      <td>0</td>\n",
       "    </tr>\n",
       "  </tbody>\n",
       "</table>\n",
       "</div>"
      ],
      "text/plain": [
       "   id  campaign_id  coupon_id  customer_id  redemption_status\n",
       "0   1           13         27         1053                  0\n",
       "1   2           13        116           48                  0\n",
       "2   6            9        635          205                  0\n",
       "3   7           13        644         1050                  0\n",
       "4   9            8       1017         1489                  0"
      ]
     },
     "metadata": {},
     "output_type": "display_data"
    },
    {
     "name": "stdout",
     "output_type": "stream",
     "text": [
      "<class 'pandas.core.frame.DataFrame'>\n",
      "RangeIndex: 78369 entries, 0 to 78368\n",
      "Data columns (total 5 columns):\n",
      " #   Column             Non-Null Count  Dtype\n",
      "---  ------             --------------  -----\n",
      " 0   id                 78369 non-null  int64\n",
      " 1   campaign_id        78369 non-null  int64\n",
      " 2   coupon_id          78369 non-null  int64\n",
      " 3   customer_id        78369 non-null  int64\n",
      " 4   redemption_status  78369 non-null  int64\n",
      "dtypes: int64(5)\n",
      "memory usage: 3.0 MB\n",
      "None\n",
      "\n",
      "Customer Transaction Dataset:\n"
     ]
    },
    {
     "data": {
      "text/html": [
       "<div>\n",
       "<style scoped>\n",
       "    .dataframe tbody tr th:only-of-type {\n",
       "        vertical-align: middle;\n",
       "    }\n",
       "\n",
       "    .dataframe tbody tr th {\n",
       "        vertical-align: top;\n",
       "    }\n",
       "\n",
       "    .dataframe thead th {\n",
       "        text-align: right;\n",
       "    }\n",
       "</style>\n",
       "<table border=\"1\" class=\"dataframe\">\n",
       "  <thead>\n",
       "    <tr style=\"text-align: right;\">\n",
       "      <th></th>\n",
       "      <th>date</th>\n",
       "      <th>customer_id</th>\n",
       "      <th>item_id</th>\n",
       "      <th>quantity</th>\n",
       "      <th>selling_price</th>\n",
       "      <th>other_discount</th>\n",
       "      <th>coupon_discount</th>\n",
       "    </tr>\n",
       "  </thead>\n",
       "  <tbody>\n",
       "    <tr>\n",
       "      <th>0</th>\n",
       "      <td>2012-01-02</td>\n",
       "      <td>1501</td>\n",
       "      <td>26830</td>\n",
       "      <td>1</td>\n",
       "      <td>35.26</td>\n",
       "      <td>-10.69</td>\n",
       "      <td>0.0</td>\n",
       "    </tr>\n",
       "    <tr>\n",
       "      <th>1</th>\n",
       "      <td>2012-01-02</td>\n",
       "      <td>1501</td>\n",
       "      <td>54253</td>\n",
       "      <td>1</td>\n",
       "      <td>53.43</td>\n",
       "      <td>-13.89</td>\n",
       "      <td>0.0</td>\n",
       "    </tr>\n",
       "    <tr>\n",
       "      <th>2</th>\n",
       "      <td>2012-01-02</td>\n",
       "      <td>1501</td>\n",
       "      <td>31962</td>\n",
       "      <td>1</td>\n",
       "      <td>106.50</td>\n",
       "      <td>-14.25</td>\n",
       "      <td>0.0</td>\n",
       "    </tr>\n",
       "    <tr>\n",
       "      <th>3</th>\n",
       "      <td>2012-01-02</td>\n",
       "      <td>1501</td>\n",
       "      <td>33647</td>\n",
       "      <td>1</td>\n",
       "      <td>67.32</td>\n",
       "      <td>0.00</td>\n",
       "      <td>0.0</td>\n",
       "    </tr>\n",
       "    <tr>\n",
       "      <th>4</th>\n",
       "      <td>2012-01-02</td>\n",
       "      <td>1501</td>\n",
       "      <td>48199</td>\n",
       "      <td>1</td>\n",
       "      <td>71.24</td>\n",
       "      <td>-28.14</td>\n",
       "      <td>0.0</td>\n",
       "    </tr>\n",
       "  </tbody>\n",
       "</table>\n",
       "</div>"
      ],
      "text/plain": [
       "         date  customer_id  item_id  quantity  selling_price  other_discount  \\\n",
       "0  2012-01-02         1501    26830         1          35.26          -10.69   \n",
       "1  2012-01-02         1501    54253         1          53.43          -13.89   \n",
       "2  2012-01-02         1501    31962         1         106.50          -14.25   \n",
       "3  2012-01-02         1501    33647         1          67.32            0.00   \n",
       "4  2012-01-02         1501    48199         1          71.24          -28.14   \n",
       "\n",
       "   coupon_discount  \n",
       "0              0.0  \n",
       "1              0.0  \n",
       "2              0.0  \n",
       "3              0.0  \n",
       "4              0.0  "
      ]
     },
     "metadata": {},
     "output_type": "display_data"
    },
    {
     "name": "stdout",
     "output_type": "stream",
     "text": [
      "<class 'pandas.core.frame.DataFrame'>\n",
      "RangeIndex: 1324566 entries, 0 to 1324565\n",
      "Data columns (total 7 columns):\n",
      " #   Column           Non-Null Count    Dtype  \n",
      "---  ------           --------------    -----  \n",
      " 0   date             1324566 non-null  object \n",
      " 1   customer_id      1324566 non-null  int64  \n",
      " 2   item_id          1324566 non-null  int64  \n",
      " 3   quantity         1324566 non-null  int64  \n",
      " 4   selling_price    1324566 non-null  float64\n",
      " 5   other_discount   1324566 non-null  float64\n",
      " 6   coupon_discount  1324566 non-null  float64\n",
      "dtypes: float64(3), int64(3), object(1)\n",
      "memory usage: 70.7+ MB\n",
      "None\n",
      "\n",
      "Customer Demographics Dataset:\n"
     ]
    },
    {
     "data": {
      "text/html": [
       "<div>\n",
       "<style scoped>\n",
       "    .dataframe tbody tr th:only-of-type {\n",
       "        vertical-align: middle;\n",
       "    }\n",
       "\n",
       "    .dataframe tbody tr th {\n",
       "        vertical-align: top;\n",
       "    }\n",
       "\n",
       "    .dataframe thead th {\n",
       "        text-align: right;\n",
       "    }\n",
       "</style>\n",
       "<table border=\"1\" class=\"dataframe\">\n",
       "  <thead>\n",
       "    <tr style=\"text-align: right;\">\n",
       "      <th></th>\n",
       "      <th>customer_id</th>\n",
       "      <th>age_range</th>\n",
       "      <th>marital_status</th>\n",
       "      <th>rented</th>\n",
       "      <th>family_size</th>\n",
       "      <th>no_of_children</th>\n",
       "      <th>income_bracket</th>\n",
       "    </tr>\n",
       "  </thead>\n",
       "  <tbody>\n",
       "    <tr>\n",
       "      <th>0</th>\n",
       "      <td>1</td>\n",
       "      <td>70+</td>\n",
       "      <td>Married</td>\n",
       "      <td>0</td>\n",
       "      <td>2</td>\n",
       "      <td>NaN</td>\n",
       "      <td>4</td>\n",
       "    </tr>\n",
       "    <tr>\n",
       "      <th>1</th>\n",
       "      <td>6</td>\n",
       "      <td>46-55</td>\n",
       "      <td>Married</td>\n",
       "      <td>0</td>\n",
       "      <td>2</td>\n",
       "      <td>NaN</td>\n",
       "      <td>5</td>\n",
       "    </tr>\n",
       "    <tr>\n",
       "      <th>2</th>\n",
       "      <td>7</td>\n",
       "      <td>26-35</td>\n",
       "      <td>NaN</td>\n",
       "      <td>0</td>\n",
       "      <td>3</td>\n",
       "      <td>1</td>\n",
       "      <td>3</td>\n",
       "    </tr>\n",
       "    <tr>\n",
       "      <th>3</th>\n",
       "      <td>8</td>\n",
       "      <td>26-35</td>\n",
       "      <td>NaN</td>\n",
       "      <td>0</td>\n",
       "      <td>4</td>\n",
       "      <td>2</td>\n",
       "      <td>6</td>\n",
       "    </tr>\n",
       "    <tr>\n",
       "      <th>4</th>\n",
       "      <td>10</td>\n",
       "      <td>46-55</td>\n",
       "      <td>Single</td>\n",
       "      <td>0</td>\n",
       "      <td>1</td>\n",
       "      <td>NaN</td>\n",
       "      <td>5</td>\n",
       "    </tr>\n",
       "  </tbody>\n",
       "</table>\n",
       "</div>"
      ],
      "text/plain": [
       "   customer_id age_range marital_status  rented family_size no_of_children  \\\n",
       "0            1       70+        Married       0           2            NaN   \n",
       "1            6     46-55        Married       0           2            NaN   \n",
       "2            7     26-35            NaN       0           3              1   \n",
       "3            8     26-35            NaN       0           4              2   \n",
       "4           10     46-55         Single       0           1            NaN   \n",
       "\n",
       "   income_bracket  \n",
       "0               4  \n",
       "1               5  \n",
       "2               3  \n",
       "3               6  \n",
       "4               5  "
      ]
     },
     "metadata": {},
     "output_type": "display_data"
    },
    {
     "name": "stdout",
     "output_type": "stream",
     "text": [
      "<class 'pandas.core.frame.DataFrame'>\n",
      "RangeIndex: 760 entries, 0 to 759\n",
      "Data columns (total 7 columns):\n",
      " #   Column          Non-Null Count  Dtype \n",
      "---  ------          --------------  ----- \n",
      " 0   customer_id     760 non-null    int64 \n",
      " 1   age_range       760 non-null    object\n",
      " 2   marital_status  431 non-null    object\n",
      " 3   rented          760 non-null    int64 \n",
      " 4   family_size     760 non-null    object\n",
      " 5   no_of_children  222 non-null    object\n",
      " 6   income_bracket  760 non-null    int64 \n",
      "dtypes: int64(3), object(4)\n",
      "memory usage: 41.7+ KB\n",
      "None\n",
      "\n",
      "Coupon Item Mapping Dataset:\n"
     ]
    },
    {
     "data": {
      "text/html": [
       "<div>\n",
       "<style scoped>\n",
       "    .dataframe tbody tr th:only-of-type {\n",
       "        vertical-align: middle;\n",
       "    }\n",
       "\n",
       "    .dataframe tbody tr th {\n",
       "        vertical-align: top;\n",
       "    }\n",
       "\n",
       "    .dataframe thead th {\n",
       "        text-align: right;\n",
       "    }\n",
       "</style>\n",
       "<table border=\"1\" class=\"dataframe\">\n",
       "  <thead>\n",
       "    <tr style=\"text-align: right;\">\n",
       "      <th></th>\n",
       "      <th>coupon_id</th>\n",
       "      <th>item_id</th>\n",
       "    </tr>\n",
       "  </thead>\n",
       "  <tbody>\n",
       "    <tr>\n",
       "      <th>0</th>\n",
       "      <td>105</td>\n",
       "      <td>37</td>\n",
       "    </tr>\n",
       "    <tr>\n",
       "      <th>1</th>\n",
       "      <td>107</td>\n",
       "      <td>75</td>\n",
       "    </tr>\n",
       "    <tr>\n",
       "      <th>2</th>\n",
       "      <td>494</td>\n",
       "      <td>76</td>\n",
       "    </tr>\n",
       "    <tr>\n",
       "      <th>3</th>\n",
       "      <td>522</td>\n",
       "      <td>77</td>\n",
       "    </tr>\n",
       "    <tr>\n",
       "      <th>4</th>\n",
       "      <td>518</td>\n",
       "      <td>77</td>\n",
       "    </tr>\n",
       "  </tbody>\n",
       "</table>\n",
       "</div>"
      ],
      "text/plain": [
       "   coupon_id  item_id\n",
       "0        105       37\n",
       "1        107       75\n",
       "2        494       76\n",
       "3        522       77\n",
       "4        518       77"
      ]
     },
     "metadata": {},
     "output_type": "display_data"
    },
    {
     "name": "stdout",
     "output_type": "stream",
     "text": [
      "<class 'pandas.core.frame.DataFrame'>\n",
      "RangeIndex: 92663 entries, 0 to 92662\n",
      "Data columns (total 2 columns):\n",
      " #   Column     Non-Null Count  Dtype\n",
      "---  ------     --------------  -----\n",
      " 0   coupon_id  92663 non-null  int64\n",
      " 1   item_id    92663 non-null  int64\n",
      "dtypes: int64(2)\n",
      "memory usage: 1.4 MB\n",
      "None\n",
      "\n",
      "Campaign Data Dataset:\n"
     ]
    },
    {
     "data": {
      "text/html": [
       "<div>\n",
       "<style scoped>\n",
       "    .dataframe tbody tr th:only-of-type {\n",
       "        vertical-align: middle;\n",
       "    }\n",
       "\n",
       "    .dataframe tbody tr th {\n",
       "        vertical-align: top;\n",
       "    }\n",
       "\n",
       "    .dataframe thead th {\n",
       "        text-align: right;\n",
       "    }\n",
       "</style>\n",
       "<table border=\"1\" class=\"dataframe\">\n",
       "  <thead>\n",
       "    <tr style=\"text-align: right;\">\n",
       "      <th></th>\n",
       "      <th>campaign_id</th>\n",
       "      <th>campaign_type</th>\n",
       "      <th>start_date</th>\n",
       "      <th>end_date</th>\n",
       "    </tr>\n",
       "  </thead>\n",
       "  <tbody>\n",
       "    <tr>\n",
       "      <th>0</th>\n",
       "      <td>24</td>\n",
       "      <td>Y</td>\n",
       "      <td>21/10/13</td>\n",
       "      <td>20/12/13</td>\n",
       "    </tr>\n",
       "    <tr>\n",
       "      <th>1</th>\n",
       "      <td>25</td>\n",
       "      <td>Y</td>\n",
       "      <td>21/10/13</td>\n",
       "      <td>22/11/13</td>\n",
       "    </tr>\n",
       "    <tr>\n",
       "      <th>2</th>\n",
       "      <td>20</td>\n",
       "      <td>Y</td>\n",
       "      <td>07/09/13</td>\n",
       "      <td>16/11/13</td>\n",
       "    </tr>\n",
       "    <tr>\n",
       "      <th>3</th>\n",
       "      <td>23</td>\n",
       "      <td>Y</td>\n",
       "      <td>08/10/13</td>\n",
       "      <td>15/11/13</td>\n",
       "    </tr>\n",
       "    <tr>\n",
       "      <th>4</th>\n",
       "      <td>21</td>\n",
       "      <td>Y</td>\n",
       "      <td>16/09/13</td>\n",
       "      <td>18/10/13</td>\n",
       "    </tr>\n",
       "  </tbody>\n",
       "</table>\n",
       "</div>"
      ],
      "text/plain": [
       "   campaign_id campaign_type start_date  end_date\n",
       "0           24             Y   21/10/13  20/12/13\n",
       "1           25             Y   21/10/13  22/11/13\n",
       "2           20             Y   07/09/13  16/11/13\n",
       "3           23             Y   08/10/13  15/11/13\n",
       "4           21             Y   16/09/13  18/10/13"
      ]
     },
     "metadata": {},
     "output_type": "display_data"
    },
    {
     "name": "stdout",
     "output_type": "stream",
     "text": [
      "<class 'pandas.core.frame.DataFrame'>\n",
      "RangeIndex: 28 entries, 0 to 27\n",
      "Data columns (total 4 columns):\n",
      " #   Column         Non-Null Count  Dtype \n",
      "---  ------         --------------  ----- \n",
      " 0   campaign_id    28 non-null     int64 \n",
      " 1   campaign_type  28 non-null     object\n",
      " 2   start_date     28 non-null     object\n",
      " 3   end_date       28 non-null     object\n",
      "dtypes: int64(1), object(3)\n",
      "memory usage: 1.0+ KB\n",
      "None\n",
      "\n",
      "Item Data Dataset:\n"
     ]
    },
    {
     "data": {
      "text/html": [
       "<div>\n",
       "<style scoped>\n",
       "    .dataframe tbody tr th:only-of-type {\n",
       "        vertical-align: middle;\n",
       "    }\n",
       "\n",
       "    .dataframe tbody tr th {\n",
       "        vertical-align: top;\n",
       "    }\n",
       "\n",
       "    .dataframe thead th {\n",
       "        text-align: right;\n",
       "    }\n",
       "</style>\n",
       "<table border=\"1\" class=\"dataframe\">\n",
       "  <thead>\n",
       "    <tr style=\"text-align: right;\">\n",
       "      <th></th>\n",
       "      <th>item_id</th>\n",
       "      <th>brand</th>\n",
       "      <th>brand_type</th>\n",
       "      <th>category</th>\n",
       "    </tr>\n",
       "  </thead>\n",
       "  <tbody>\n",
       "    <tr>\n",
       "      <th>0</th>\n",
       "      <td>1</td>\n",
       "      <td>1</td>\n",
       "      <td>Established</td>\n",
       "      <td>Grocery</td>\n",
       "    </tr>\n",
       "    <tr>\n",
       "      <th>1</th>\n",
       "      <td>2</td>\n",
       "      <td>1</td>\n",
       "      <td>Established</td>\n",
       "      <td>Miscellaneous</td>\n",
       "    </tr>\n",
       "    <tr>\n",
       "      <th>2</th>\n",
       "      <td>3</td>\n",
       "      <td>56</td>\n",
       "      <td>Local</td>\n",
       "      <td>Bakery</td>\n",
       "    </tr>\n",
       "    <tr>\n",
       "      <th>3</th>\n",
       "      <td>4</td>\n",
       "      <td>56</td>\n",
       "      <td>Local</td>\n",
       "      <td>Grocery</td>\n",
       "    </tr>\n",
       "    <tr>\n",
       "      <th>4</th>\n",
       "      <td>5</td>\n",
       "      <td>56</td>\n",
       "      <td>Local</td>\n",
       "      <td>Grocery</td>\n",
       "    </tr>\n",
       "  </tbody>\n",
       "</table>\n",
       "</div>"
      ],
      "text/plain": [
       "   item_id  brand   brand_type       category\n",
       "0        1      1  Established        Grocery\n",
       "1        2      1  Established  Miscellaneous\n",
       "2        3     56        Local         Bakery\n",
       "3        4     56        Local        Grocery\n",
       "4        5     56        Local        Grocery"
      ]
     },
     "metadata": {},
     "output_type": "display_data"
    },
    {
     "name": "stdout",
     "output_type": "stream",
     "text": [
      "<class 'pandas.core.frame.DataFrame'>\n",
      "RangeIndex: 74066 entries, 0 to 74065\n",
      "Data columns (total 4 columns):\n",
      " #   Column      Non-Null Count  Dtype \n",
      "---  ------      --------------  ----- \n",
      " 0   item_id     74066 non-null  int64 \n",
      " 1   brand       74066 non-null  int64 \n",
      " 2   brand_type  74066 non-null  object\n",
      " 3   category    74066 non-null  object\n",
      "dtypes: int64(2), object(2)\n",
      "memory usage: 2.3+ MB\n",
      "None\n"
     ]
    }
   ],
   "source": [
    "datasets = [train, customer_transaction, customer_demographics, coupon_item_mapping, campaign_data, item_data]\n",
    "dataset_names = [\"Train\", \"Customer Transaction\", \"Customer Demographics\", \"Coupon Item Mapping\", \"Campaign Data\", \"Item Data\"]\n",
    "\n",
    "for df, name in zip(datasets, dataset_names):\n",
    "    print(f\"\\n{name} Dataset:\")\n",
    "    display(df.head())  # Use display() in Jupyter Notebook for better formatting\n",
    "    print(df.info())  # Check data types and missing values\n"
   ]
  },
  {
   "cell_type": "code",
   "execution_count": null,
   "id": "38b67cc7-6c1f-41c3-8d46-b1a724dfb599",
   "metadata": {},
   "outputs": [],
   "source": [
    "#note down\n",
    "#check missing values"
   ]
  },
  {
   "cell_type": "code",
   "execution_count": 5,
   "id": "a774ae1e-710c-4e67-b388-2b345e4a0a87",
   "metadata": {},
   "outputs": [
    {
     "name": "stdout",
     "output_type": "stream",
     "text": [
      "\n",
      "Train Dataset Missing Values:\n",
      "id                   0\n",
      "campaign_id          0\n",
      "coupon_id            0\n",
      "customer_id          0\n",
      "redemption_status    0\n",
      "dtype: int64\n",
      "\n",
      "Customer Transaction Dataset Missing Values:\n",
      "date               0\n",
      "customer_id        0\n",
      "item_id            0\n",
      "quantity           0\n",
      "selling_price      0\n",
      "other_discount     0\n",
      "coupon_discount    0\n",
      "dtype: int64\n",
      "\n",
      "Customer Demographics Dataset Missing Values:\n",
      "customer_id         0\n",
      "age_range           0\n",
      "marital_status    329\n",
      "rented              0\n",
      "family_size         0\n",
      "no_of_children    538\n",
      "income_bracket      0\n",
      "dtype: int64\n",
      "\n",
      "Coupon Item Mapping Dataset Missing Values:\n",
      "coupon_id    0\n",
      "item_id      0\n",
      "dtype: int64\n",
      "\n",
      "Campaign Data Dataset Missing Values:\n",
      "campaign_id      0\n",
      "campaign_type    0\n",
      "start_date       0\n",
      "end_date         0\n",
      "dtype: int64\n",
      "\n",
      "Item Data Dataset Missing Values:\n",
      "item_id       0\n",
      "brand         0\n",
      "brand_type    0\n",
      "category      0\n",
      "dtype: int64\n"
     ]
    }
   ],
   "source": [
    "for df, name in zip(datasets, dataset_names):\n",
    "    print(f\"\\n{name} Dataset Missing Values:\")\n",
    "    print(df.isnull().sum())\n"
   ]
  },
  {
   "cell_type": "code",
   "execution_count": null,
   "id": "76ab7ad3-1c23-40c9-a048-dd192eec35be",
   "metadata": {},
   "outputs": [],
   "source": [
    "#clean the data"
   ]
  },
  {
   "cell_type": "code",
   "execution_count": 7,
   "id": "c21a4a65-15f4-4934-acd0-26d5dcd6b45e",
   "metadata": {},
   "outputs": [
    {
     "name": "stdout",
     "output_type": "stream",
     "text": [
      "[0 '1' '2' '3+']\n"
     ]
    }
   ],
   "source": [
    "print(customer_demographics[\"no_of_children\"].unique())\n"
   ]
  },
  {
   "cell_type": "code",
   "execution_count": 8,
   "id": "c0cc73f5-5b9a-4e46-880b-0eb989b84ed5",
   "metadata": {},
   "outputs": [],
   "source": [
    "import pandas as pd\n",
    "\n",
    "# Replace non-numeric values (e.g., \"3+\") with an estimated number\n",
    "customer_demographics[\"no_of_children\"] = (\n",
    "    customer_demographics[\"no_of_children\"]\n",
    "    .astype(str)  # Convert everything to string\n",
    "    .str.replace(\"+\", \"\", regex=False)  # Remove \"+\" signs\n",
    ")\n",
    "\n",
    "# Convert to integer (handling empty strings)\n",
    "customer_demographics[\"no_of_children\"] = pd.to_numeric(\n",
    "    customer_demographics[\"no_of_children\"], errors=\"coerce\"\n",
    ").fillna(0).astype(int)\n"
   ]
  },
  {
   "cell_type": "code",
   "execution_count": 9,
   "id": "f9177375-96ea-4c01-a66d-8196af499738",
   "metadata": {},
   "outputs": [
    {
     "name": "stdout",
     "output_type": "stream",
     "text": [
      "0    0\n",
      "1    0\n",
      "2    1\n",
      "3    2\n",
      "4    0\n",
      "5    0\n",
      "6    0\n",
      "7    0\n",
      "8    0\n",
      "9    0\n",
      "Name: no_of_children, dtype: int32\n"
     ]
    }
   ],
   "source": [
    "print(customer_demographics[\"no_of_children\"].head(10))\n"
   ]
  },
  {
   "cell_type": "code",
   "execution_count": 10,
   "id": "41d2f750-7e1a-4784-b3df-50730cb205b2",
   "metadata": {},
   "outputs": [
    {
     "name": "stdout",
     "output_type": "stream",
     "text": [
      "[0 1 2 3]\n"
     ]
    }
   ],
   "source": [
    "print(customer_demographics[\"no_of_children\"].unique())\n"
   ]
  },
  {
   "cell_type": "code",
   "execution_count": null,
   "id": "1262708e-41fe-435e-9676-237785e06914",
   "metadata": {},
   "outputs": [],
   "source": [
    "#convert family_size column"
   ]
  },
  {
   "cell_type": "code",
   "execution_count": 12,
   "id": "a54308d7-d8e5-49b3-a97d-56513e4bdfe1",
   "metadata": {},
   "outputs": [
    {
     "name": "stdout",
     "output_type": "stream",
     "text": [
      "[2 3 4 1 5]\n"
     ]
    }
   ],
   "source": [
    "customer_demographics[\"family_size\"] = customer_demographics[\"family_size\"].replace(\"5+\", 5).astype(int)\n",
    "print(customer_demographics[\"family_size\"].unique())  # Check unique values after conversion\n"
   ]
  },
  {
   "cell_type": "code",
   "execution_count": null,
   "id": "682ebf64-f52d-4b73-8f99-cc1e083656a9",
   "metadata": {},
   "outputs": [],
   "source": [
    "#the marital_status column, which has missing values running this to fill missing values with unknown"
   ]
  },
  {
   "cell_type": "code",
   "execution_count": 13,
   "id": "bf85caa1-c153-44ce-9a79-cbf122fd729e",
   "metadata": {},
   "outputs": [
    {
     "name": "stdout",
     "output_type": "stream",
     "text": [
      "['Married' 'Unknown' 'Single']\n"
     ]
    }
   ],
   "source": [
    "customer_demographics[\"marital_status\"] = customer_demographics[\"marital_status\"].fillna(\"Unknown\")\n",
    "print(customer_demographics[\"marital_status\"].unique())  # Check unique values after filling\n"
   ]
  },
  {
   "cell_type": "code",
   "execution_count": null,
   "id": "eed86119-e3fa-4bfb-801f-de24fa5c938e",
   "metadata": {},
   "outputs": [],
   "source": [
    "#check if any missing values are left in the customer_demographics dataset"
   ]
  },
  {
   "cell_type": "code",
   "execution_count": 14,
   "id": "3af04b9c-6443-4161-a7a1-88f13ef845b7",
   "metadata": {},
   "outputs": [
    {
     "name": "stdout",
     "output_type": "stream",
     "text": [
      "customer_id       0\n",
      "age_range         0\n",
      "marital_status    0\n",
      "rented            0\n",
      "family_size       0\n",
      "no_of_children    0\n",
      "income_bracket    0\n",
      "dtype: int64\n"
     ]
    }
   ],
   "source": [
    "print(customer_demographics.isnull().sum())\n"
   ]
  },
  {
   "cell_type": "code",
   "execution_count": null,
   "id": "b4fbc139-d7bd-48fb-beb6-5b8c76860ea4",
   "metadata": {},
   "outputs": [],
   "source": [
    "#campaign data and fix the start_date and end_date columns which are in string format"
   ]
  },
  {
   "cell_type": "code",
   "execution_count": 15,
   "id": "e2b4643e-fc8b-4867-8048-994aee1f2eb4",
   "metadata": {},
   "outputs": [
    {
     "name": "stdout",
     "output_type": "stream",
     "text": [
      "campaign_id               int64\n",
      "campaign_type            object\n",
      "start_date       datetime64[ns]\n",
      "end_date         datetime64[ns]\n",
      "dtype: object\n"
     ]
    }
   ],
   "source": [
    "# Convert start_date and end_date to datetime format\n",
    "campaign_data[\"start_date\"] = pd.to_datetime(campaign_data[\"start_date\"], format=\"%d/%m/%y\")\n",
    "campaign_data[\"end_date\"] = pd.to_datetime(campaign_data[\"end_date\"], format=\"%d/%m/%y\")\n",
    "\n",
    "# Check the updated data types\n",
    "print(campaign_data.dtypes)\n"
   ]
  },
  {
   "cell_type": "code",
   "execution_count": null,
   "id": "ce664987-4f5a-4d23-a702-8bc95a253853",
   "metadata": {},
   "outputs": [],
   "source": [
    "#check if there are any missing values in the campaign_data dataset"
   ]
  },
  {
   "cell_type": "code",
   "execution_count": 16,
   "id": "8ba506d7-3532-4825-a0e0-ce0add20e71b",
   "metadata": {},
   "outputs": [
    {
     "name": "stdout",
     "output_type": "stream",
     "text": [
      "campaign_id      0\n",
      "campaign_type    0\n",
      "start_date       0\n",
      "end_date         0\n",
      "dtype: int64\n"
     ]
    }
   ],
   "source": [
    "print(campaign_data.isnull().sum())\n"
   ]
  },
  {
   "cell_type": "code",
   "execution_count": null,
   "id": "76f12cc6-d2de-430c-85bb-0ba975f2c0dc",
   "metadata": {},
   "outputs": [],
   "source": [
    "#rechecking"
   ]
  },
  {
   "cell_type": "code",
   "execution_count": 17,
   "id": "8a7b060a-b2a9-4827-b7a1-8ba45be8ba41",
   "metadata": {},
   "outputs": [
    {
     "name": "stdout",
     "output_type": "stream",
     "text": [
      "\n",
      "Train Dataset Missing Values:\n",
      "id                   0\n",
      "campaign_id          0\n",
      "coupon_id            0\n",
      "customer_id          0\n",
      "redemption_status    0\n",
      "dtype: int64\n",
      "\n",
      "Customer Transaction Dataset Missing Values:\n",
      "date               0\n",
      "customer_id        0\n",
      "item_id            0\n",
      "quantity           0\n",
      "selling_price      0\n",
      "other_discount     0\n",
      "coupon_discount    0\n",
      "dtype: int64\n",
      "\n",
      "Coupon Item Mapping Dataset Missing Values:\n",
      "coupon_id    0\n",
      "item_id      0\n",
      "dtype: int64\n",
      "\n",
      "Item Data Dataset Missing Values:\n",
      "item_id       0\n",
      "brand         0\n",
      "brand_type    0\n",
      "category      0\n",
      "dtype: int64\n"
     ]
    }
   ],
   "source": [
    "datasets = [train, customer_transaction, coupon_item_mapping, item_data]\n",
    "dataset_names = [\"Train\", \"Customer Transaction\", \"Coupon Item Mapping\", \"Item Data\"]\n",
    "\n",
    "for df, name in zip(datasets, dataset_names):\n",
    "    print(f\"\\n{name} Dataset Missing Values:\")\n",
    "    print(df.isnull().sum())\n"
   ]
  },
  {
   "cell_type": "code",
   "execution_count": null,
   "id": "be60a770-74ed-4d62-8734-8930fe77474d",
   "metadata": {},
   "outputs": [],
   "source": [
    "#merge the datasets checking for duplicate rows in each dataset"
   ]
  },
  {
   "cell_type": "code",
   "execution_count": 18,
   "id": "448bf516-fa52-4a46-85cc-96320dc68d20",
   "metadata": {},
   "outputs": [
    {
     "name": "stdout",
     "output_type": "stream",
     "text": [
      "\n",
      "Train Dataset Duplicate Rows: 0\n",
      "\n",
      "Customer Transaction Dataset Duplicate Rows: 2916\n",
      "\n",
      "Coupon Item Mapping Dataset Duplicate Rows: 0\n",
      "\n",
      "Item Data Dataset Duplicate Rows: 0\n"
     ]
    }
   ],
   "source": [
    "for df, name in zip(datasets, dataset_names):\n",
    "    print(f\"\\n{name} Dataset Duplicate Rows: {df.duplicated().sum()}\")\n"
   ]
  },
  {
   "cell_type": "code",
   "execution_count": null,
   "id": "f7cd8a12-6fdc-462d-a501-bc53c8adfd18",
   "metadata": {},
   "outputs": [],
   "source": [
    "#remove the duplicate rows"
   ]
  },
  {
   "cell_type": "code",
   "execution_count": 19,
   "id": "2d67698e-4626-41f2-b583-14d7e198b63e",
   "metadata": {},
   "outputs": [
    {
     "name": "stdout",
     "output_type": "stream",
     "text": [
      "Customer Transaction Dataset Duplicate Rows After Removal: 0\n"
     ]
    }
   ],
   "source": [
    "customer_transaction.drop_duplicates(inplace=True)\n",
    "print(f\"Customer Transaction Dataset Duplicate Rows After Removal: {customer_transaction.duplicated().sum()}\")\n"
   ]
  },
  {
   "cell_type": "code",
   "execution_count": null,
   "id": "b303bd91-d1b7-4a0a-92b8-5c629ffe40cb",
   "metadata": {},
   "outputs": [],
   "source": [
    "#merge train.csv with campaign_data.csv"
   ]
  },
  {
   "cell_type": "code",
   "execution_count": 20,
   "id": "2e88560d-b680-4e28-9b18-bed8a9c2a549",
   "metadata": {},
   "outputs": [
    {
     "name": "stdout",
     "output_type": "stream",
     "text": [
      "   id  campaign_id  coupon_id  customer_id  redemption_status campaign_type  \\\n",
      "0   1           13         27         1053                  0             X   \n",
      "1   2           13        116           48                  0             X   \n",
      "2   6            9        635          205                  0             Y   \n",
      "3   7           13        644         1050                  0             X   \n",
      "4   9            8       1017         1489                  0             X   \n",
      "\n",
      "  start_date   end_date  \n",
      "0 2013-05-19 2013-07-05  \n",
      "1 2013-05-19 2013-07-05  \n",
      "2 2013-03-11 2013-04-12  \n",
      "3 2013-05-19 2013-07-05  \n",
      "4 2013-02-16 2013-04-05  \n"
     ]
    }
   ],
   "source": [
    "train_campaign = train.merge(campaign_data, on=\"campaign_id\", how=\"left\")\n",
    "print(train_campaign.head())  # Check if the merge is successful\n"
   ]
  },
  {
   "cell_type": "code",
   "execution_count": null,
   "id": "ae2abdb5-d246-4b2f-8337-9c8cbc1a46b1",
   "metadata": {},
   "outputs": [],
   "source": [
    "#merge with customer_demographics.csv"
   ]
  },
  {
   "cell_type": "code",
   "execution_count": 21,
   "id": "82357e1e-a955-4da5-8310-66c95f331ab5",
   "metadata": {},
   "outputs": [
    {
     "name": "stdout",
     "output_type": "stream",
     "text": [
      "   id  campaign_id  coupon_id  customer_id  redemption_status campaign_type  \\\n",
      "0   1           13         27         1053                  0             X   \n",
      "1   2           13        116           48                  0             X   \n",
      "2   6            9        635          205                  0             Y   \n",
      "3   7           13        644         1050                  0             X   \n",
      "4   9            8       1017         1489                  0             X   \n",
      "\n",
      "  start_date   end_date age_range marital_status  rented  family_size  \\\n",
      "0 2013-05-19 2013-07-05     46-55        Unknown     0.0          1.0   \n",
      "1 2013-05-19 2013-07-05     36-45        Married     0.0          2.0   \n",
      "2 2013-03-11 2013-04-12     46-55        Married     0.0          2.0   \n",
      "3 2013-05-19 2013-07-05       NaN            NaN     NaN          NaN   \n",
      "4 2013-02-16 2013-04-05     46-55        Married     0.0          2.0   \n",
      "\n",
      "   no_of_children  income_bracket  \n",
      "0             0.0             5.0  \n",
      "1             0.0             3.0  \n",
      "2             0.0             7.0  \n",
      "3             NaN             NaN  \n",
      "4             0.0             3.0  \n"
     ]
    }
   ],
   "source": [
    "train_campaign_demo = train_campaign.merge(customer_demographics, on=\"customer_id\", how=\"left\")\n",
    "print(train_campaign_demo.head())  # Check if customer details are added\n"
   ]
  },
  {
   "cell_type": "code",
   "execution_count": 23,
   "id": "089bc9ab-f454-40a3-a65d-40a358545b74",
   "metadata": {},
   "outputs": [
    {
     "name": "stdout",
     "output_type": "stream",
     "text": [
      "id                   0\n",
      "campaign_id          0\n",
      "coupon_id            0\n",
      "customer_id          0\n",
      "redemption_status    0\n",
      "campaign_type        0\n",
      "start_date           0\n",
      "end_date             0\n",
      "age_range            0\n",
      "marital_status       0\n",
      "rented               0\n",
      "family_size          0\n",
      "no_of_children       0\n",
      "income_bracket       0\n",
      "dtype: int64\n"
     ]
    }
   ],
   "source": [
    "train_campaign_demo = train_campaign_demo.assign(\n",
    "    rented=train_campaign_demo[\"rented\"].fillna(0),\n",
    "    family_size=train_campaign_demo[\"family_size\"].fillna(1),\n",
    "    no_of_children=train_campaign_demo[\"no_of_children\"].fillna(0),\n",
    "    income_bracket=train_campaign_demo[\"income_bracket\"].fillna(train_campaign_demo[\"income_bracket\"].median()),\n",
    "    age_range=train_campaign_demo[\"age_range\"].fillna(\"Unknown\"),\n",
    "    marital_status=train_campaign_demo[\"marital_status\"].fillna(\"Unknown\")\n",
    ")\n",
    "\n",
    "# Verify if missing values are removed\n",
    "print(train_campaign_demo.isnull().sum())  # Should return all zeros\n"
   ]
  },
  {
   "cell_type": "code",
   "execution_count": null,
   "id": "650147b6-02d0-49d9-92df-46b69fbc2778",
   "metadata": {},
   "outputs": [],
   "source": [
    "#merge with coupon_item_mapping.csv"
   ]
  },
  {
   "cell_type": "code",
   "execution_count": 24,
   "id": "6b5f91c7-5fde-48fa-9768-4a0b8d3f537b",
   "metadata": {},
   "outputs": [
    {
     "name": "stdout",
     "output_type": "stream",
     "text": [
      "   id  campaign_id  coupon_id  customer_id  redemption_status campaign_type  \\\n",
      "0   1           13         27         1053                  0             X   \n",
      "1   1           13         27         1053                  0             X   \n",
      "2   1           13         27         1053                  0             X   \n",
      "3   1           13         27         1053                  0             X   \n",
      "4   1           13         27         1053                  0             X   \n",
      "\n",
      "  start_date   end_date age_range marital_status  rented  family_size  \\\n",
      "0 2013-05-19 2013-07-05     46-55        Unknown     0.0          1.0   \n",
      "1 2013-05-19 2013-07-05     46-55        Unknown     0.0          1.0   \n",
      "2 2013-05-19 2013-07-05     46-55        Unknown     0.0          1.0   \n",
      "3 2013-05-19 2013-07-05     46-55        Unknown     0.0          1.0   \n",
      "4 2013-05-19 2013-07-05     46-55        Unknown     0.0          1.0   \n",
      "\n",
      "   no_of_children  income_bracket  item_id  \n",
      "0             0.0             5.0    24775  \n",
      "1             0.0             5.0    14958  \n",
      "2             0.0             5.0    40431  \n",
      "3             0.0             5.0    20749  \n",
      "4             0.0             5.0    56860  \n"
     ]
    }
   ],
   "source": [
    "train_campaign_demo_coupon = train_campaign_demo.merge(coupon_item_mapping, on=\"coupon_id\", how=\"left\")\n",
    "print(train_campaign_demo_coupon.head())  # Check if items are linked to coupons\n"
   ]
  },
  {
   "cell_type": "code",
   "execution_count": null,
   "id": "6198c46c-6367-4650-9d09-9c585884b613",
   "metadata": {},
   "outputs": [],
   "source": [
    "#merge with item_data.csv"
   ]
  },
  {
   "cell_type": "code",
   "execution_count": 25,
   "id": "28963414-679d-40db-a90d-4df72afd4d76",
   "metadata": {},
   "outputs": [
    {
     "name": "stdout",
     "output_type": "stream",
     "text": [
      "   id  campaign_id  coupon_id  customer_id  redemption_status campaign_type  \\\n",
      "0   1           13         27         1053                  0             X   \n",
      "1   1           13         27         1053                  0             X   \n",
      "2   1           13         27         1053                  0             X   \n",
      "3   1           13         27         1053                  0             X   \n",
      "4   1           13         27         1053                  0             X   \n",
      "\n",
      "  start_date   end_date age_range marital_status  rented  family_size  \\\n",
      "0 2013-05-19 2013-07-05     46-55        Unknown     0.0          1.0   \n",
      "1 2013-05-19 2013-07-05     46-55        Unknown     0.0          1.0   \n",
      "2 2013-05-19 2013-07-05     46-55        Unknown     0.0          1.0   \n",
      "3 2013-05-19 2013-07-05     46-55        Unknown     0.0          1.0   \n",
      "4 2013-05-19 2013-07-05     46-55        Unknown     0.0          1.0   \n",
      "\n",
      "   no_of_children  income_bracket  item_id  brand   brand_type category  \n",
      "0             0.0             5.0    24775   1636  Established  Grocery  \n",
      "1             0.0             5.0    14958   1636  Established  Grocery  \n",
      "2             0.0             5.0    40431   1636  Established  Grocery  \n",
      "3             0.0             5.0    20749   1636  Established  Grocery  \n",
      "4             0.0             5.0    56860   1636  Established  Grocery  \n"
     ]
    }
   ],
   "source": [
    "train_campaign_demo_coupon_item = train_campaign_demo_coupon.merge(item_data, on=\"item_id\", how=\"left\")\n",
    "print(train_campaign_demo_coupon_item.head())  # Check if item details are added\n"
   ]
  },
  {
   "cell_type": "code",
   "execution_count": null,
   "id": "06f5fad3-8b25-411f-a66f-feb98c63965e",
   "metadata": {},
   "outputs": [],
   "source": [
    "#merge with customer_transaction_data.csv"
   ]
  },
  {
   "cell_type": "code",
   "execution_count": 26,
   "id": "7af8d945-1f7c-4b07-86b0-032ebf69d8ef",
   "metadata": {},
   "outputs": [
    {
     "name": "stdout",
     "output_type": "stream",
     "text": [
      "   id  campaign_id  coupon_id  customer_id  redemption_status campaign_type  \\\n",
      "0   1           13         27         1053                  0             X   \n",
      "1   1           13         27         1053                  0             X   \n",
      "2   1           13         27         1053                  0             X   \n",
      "3   1           13         27         1053                  0             X   \n",
      "4   1           13         27         1053                  0             X   \n",
      "\n",
      "  start_date   end_date age_range marital_status  ...  income_bracket  \\\n",
      "0 2013-05-19 2013-07-05     46-55        Unknown  ...             5.0   \n",
      "1 2013-05-19 2013-07-05     46-55        Unknown  ...             5.0   \n",
      "2 2013-05-19 2013-07-05     46-55        Unknown  ...             5.0   \n",
      "3 2013-05-19 2013-07-05     46-55        Unknown  ...             5.0   \n",
      "4 2013-05-19 2013-07-05     46-55        Unknown  ...             5.0   \n",
      "\n",
      "   item_id  brand   brand_type  category  date quantity selling_price  \\\n",
      "0    24775   1636  Established   Grocery   NaN      NaN           NaN   \n",
      "1    14958   1636  Established   Grocery   NaN      NaN           NaN   \n",
      "2    40431   1636  Established   Grocery   NaN      NaN           NaN   \n",
      "3    20749   1636  Established   Grocery   NaN      NaN           NaN   \n",
      "4    56860   1636  Established   Grocery   NaN      NaN           NaN   \n",
      "\n",
      "  other_discount  coupon_discount  \n",
      "0            NaN              NaN  \n",
      "1            NaN              NaN  \n",
      "2            NaN              NaN  \n",
      "3            NaN              NaN  \n",
      "4            NaN              NaN  \n",
      "\n",
      "[5 rows x 23 columns]\n"
     ]
    }
   ],
   "source": [
    "final_merged_data = train_campaign_demo_coupon_item.merge(customer_transaction, on=[\"customer_id\", \"item_id\"], how=\"left\")\n",
    "print(final_merged_data.head())  # Check if transaction details are added\n"
   ]
  },
  {
   "cell_type": "code",
   "execution_count": null,
   "id": "fad49a1c-7a5f-4e0c-a52d-79b2e94c5a5f",
   "metadata": {},
   "outputs": [],
   "source": [
    "#fill missing values in transaction data"
   ]
  },
  {
   "cell_type": "code",
   "execution_count": 28,
   "id": "23551fa3-05dd-4d6c-a49a-98f570c5a863",
   "metadata": {},
   "outputs": [
    {
     "name": "stdout",
     "output_type": "stream",
     "text": [
      "id                   0\n",
      "campaign_id          0\n",
      "coupon_id            0\n",
      "customer_id          0\n",
      "redemption_status    0\n",
      "campaign_type        0\n",
      "start_date           0\n",
      "end_date             0\n",
      "age_range            0\n",
      "marital_status       0\n",
      "rented               0\n",
      "family_size          0\n",
      "no_of_children       0\n",
      "income_bracket       0\n",
      "item_id              0\n",
      "brand                0\n",
      "brand_type           0\n",
      "category             0\n",
      "date                 0\n",
      "quantity             0\n",
      "selling_price        0\n",
      "other_discount       0\n",
      "coupon_discount      0\n",
      "dtype: int64\n"
     ]
    }
   ],
   "source": [
    "final_merged_data = final_merged_data.assign(\n",
    "    date=final_merged_data[\"date\"].fillna(\"No Transaction\"),\n",
    "    quantity=final_merged_data[\"quantity\"].fillna(0),\n",
    "    selling_price=final_merged_data[\"selling_price\"].fillna(0),\n",
    "    other_discount=final_merged_data[\"other_discount\"].fillna(0),\n",
    "    coupon_discount=final_merged_data[\"coupon_discount\"].fillna(0)\n",
    ")\n",
    "\n",
    "# Check if missing values are removed\n",
    "print(final_merged_data.isnull().sum())  # Should return all zeros\n"
   ]
  },
  {
   "cell_type": "code",
   "execution_count": null,
   "id": "a2ea181e-3a04-464e-ae35-275201f4c5a3",
   "metadata": {},
   "outputs": [],
   "source": [
    "#customer engagement analysis"
   ]
  },
  {
   "cell_type": "code",
   "execution_count": 29,
   "id": "a2275c77-490a-47bd-a2ba-d0d609097207",
   "metadata": {},
   "outputs": [
    {
     "name": "stdout",
     "output_type": "stream",
     "text": [
      "       item_id  quantity\n",
      "14834    34047    1110.0\n",
      "6080     13174     776.0\n",
      "6470     14215     651.0\n",
      "15676    36017     525.0\n",
      "20805    46288     489.0\n",
      "9455     21421     469.0\n",
      "4652      9783     461.0\n",
      "6307     13774     417.0\n",
      "12657    28939     392.0\n",
      "6253     13637     379.0\n"
     ]
    }
   ],
   "source": [
    "# Group by item and sum up the quantity purchased\n",
    "product_engagement = final_merged_data.groupby(\"item_id\")[\"quantity\"].sum().reset_index()\n",
    "\n",
    "# Sort in descending order to find the most engaged product\n",
    "product_engagement = product_engagement.sort_values(by=\"quantity\", ascending=False)\n",
    "\n",
    "# Display top 10 most engaged products\n",
    "print(product_engagement.head(10))\n"
   ]
  },
  {
   "cell_type": "code",
   "execution_count": null,
   "id": "218da3c3-2b8e-4950-856e-fe1dc80f7e09",
   "metadata": {},
   "outputs": [],
   "source": [
    "#identify the most engaged product by category & brand"
   ]
  },
  {
   "cell_type": "code",
   "execution_count": 30,
   "id": "f87343d8-3e41-4755-9064-99ffd357f868",
   "metadata": {},
   "outputs": [
    {
     "name": "stdout",
     "output_type": "stream",
     "text": [
      "                  category  quantity\n",
      "4                  Grocery  125266.0\n",
      "9           Pharmaceutical   22978.0\n",
      "8            Packaged Meat   16204.0\n",
      "7         Natural Products    9558.0\n",
      "5                     Meat    5448.0\n",
      "1   Dairy, Juices & Snacks    2258.0\n",
      "13                 Seafood    2035.0\n",
      "14        Skin & Hair Care     454.0\n",
      "10           Prepared Food     243.0\n",
      "2         Flowers & Plants     239.0\n"
     ]
    }
   ],
   "source": [
    "# Merge with item data to get category and brand details\n",
    "product_engagement = product_engagement.merge(item_data, on=\"item_id\", how=\"left\")\n",
    "\n",
    "# Group by category and sum up the total quantity\n",
    "category_engagement = product_engagement.groupby(\"category\")[\"quantity\"].sum().reset_index()\n",
    "\n",
    "# Sort in descending order\n",
    "category_engagement = category_engagement.sort_values(by=\"quantity\", ascending=False)\n",
    "\n",
    "# Display top categories\n",
    "print(category_engagement.head(10))\n"
   ]
  },
  {
   "cell_type": "code",
   "execution_count": null,
   "id": "d918f3df-6a40-4019-82f8-3a5c0171214d",
   "metadata": {},
   "outputs": [],
   "source": [
    "#product-wise sales classification"
   ]
  },
  {
   "cell_type": "code",
   "execution_count": 31,
   "id": "566af410-bb96-4519-81c4-0399fdfaf59c",
   "metadata": {},
   "outputs": [
    {
     "name": "stdout",
     "output_type": "stream",
     "text": [
      "       item_id  total_sales  brand   brand_type        category\n",
      "14615    33515    240216.37    278  Established         Grocery\n",
      "9455     21421    135078.05   1101  Established         Grocery\n",
      "14834    34047    129608.38     56        Local         Grocery\n",
      "3322      6655    128626.16   1274  Established  Pharmaceutical\n",
      "6470     14215     92044.24    278  Established         Grocery\n",
      "7920     17672     75665.42   1179  Established            Meat\n",
      "10420    23659     72894.40   1101  Established         Grocery\n",
      "3248      6480     68408.93     56        Local   Packaged Meat\n",
      "15655    35964     67859.42    686  Established  Pharmaceutical\n",
      "7800     17402     65919.14    967  Established         Grocery\n"
     ]
    }
   ],
   "source": [
    "# Create a new column for total sales value\n",
    "final_merged_data[\"total_sales\"] = final_merged_data[\"selling_price\"] * final_merged_data[\"quantity\"]\n",
    "\n",
    "# Group by item_id to get total sales per product\n",
    "product_sales = final_merged_data.groupby(\"item_id\")[\"total_sales\"].sum().reset_index()\n",
    "\n",
    "# Merge with item details to get category and brand\n",
    "product_sales = product_sales.merge(item_data, on=\"item_id\", how=\"left\")\n",
    "\n",
    "# Sort by total sales value\n",
    "product_sales = product_sales.sort_values(by=\"total_sales\", ascending=False)\n",
    "\n",
    "# Display top 10 products by sales\n",
    "print(product_sales.head(10))\n"
   ]
  },
  {
   "cell_type": "code",
   "execution_count": null,
   "id": "15772282-b552-41d7-bcb5-9f79df096b7d",
   "metadata": {},
   "outputs": [],
   "source": [
    "#identify the most used coupons year-wise"
   ]
  },
  {
   "cell_type": "code",
   "execution_count": 32,
   "id": "8c7897fe-5804-4851-aeb7-8a86fabceea5",
   "metadata": {},
   "outputs": [
    {
     "name": "stdout",
     "output_type": "stream",
     "text": [
      "     year  coupon_id  usage_count\n",
      "401  2012        982        17179\n",
      "487  2013         23      1454945\n"
     ]
    }
   ],
   "source": [
    "# Extract the year from the start_date of the campaign\n",
    "final_merged_data[\"year\"] = final_merged_data[\"start_date\"].dt.year\n",
    "\n",
    "# Group by year and coupon_id to count how many times each coupon was used\n",
    "coupon_usage = final_merged_data.groupby([\"year\", \"coupon_id\"])[\"customer_id\"].count().reset_index()\n",
    "\n",
    "# Rename column for clarity\n",
    "coupon_usage.rename(columns={\"customer_id\": \"usage_count\"}, inplace=True)\n",
    "\n",
    "# Find the most used coupon for each year\n",
    "most_used_coupons = coupon_usage.loc[coupon_usage.groupby(\"year\")[\"usage_count\"].idxmax()]\n",
    "\n",
    "print(most_used_coupons)\n"
   ]
  },
  {
   "cell_type": "code",
   "execution_count": null,
   "id": "724ab258-76f3-46cb-bfb0-2954d3e9e13f",
   "metadata": {},
   "outputs": [],
   "source": [
    "#coupon classification based on product categories"
   ]
  },
  {
   "cell_type": "code",
   "execution_count": 33,
   "id": "515aa197-3336-45a2-8c44-8d5088bdf6c0",
   "metadata": {},
   "outputs": [
    {
     "name": "stdout",
     "output_type": "stream",
     "text": [
      "                  category  usage_count\n",
      "9           Pharmaceutical  14018336945\n",
      "4                  Grocery   5642356672\n",
      "14        Skin & Hair Care   3157267693\n",
      "5                     Meat   1880169267\n",
      "8            Packaged Meat   1774668314\n",
      "7         Natural Products   1358766344\n",
      "13                 Seafood    519596536\n",
      "1   Dairy, Juices & Snacks    424348238\n",
      "2         Flowers & Plants    422072714\n",
      "3                   Garden     61642297\n"
     ]
    }
   ],
   "source": [
    "# Merge coupon usage data with coupon-item mapping and item data\n",
    "coupon_category = coupon_usage.merge(coupon_item_mapping, on=\"coupon_id\", how=\"left\").merge(item_data, on=\"item_id\", how=\"left\")\n",
    "\n",
    "# Group by category and count the number of times coupons were used\n",
    "coupon_category_usage = coupon_category.groupby(\"category\")[\"usage_count\"].sum().reset_index()\n",
    "\n",
    "# Sort by highest coupon usage\n",
    "coupon_category_usage = coupon_category_usage.sort_values(by=\"usage_count\", ascending=False)\n",
    "\n",
    "# Display the top 10 categories with highest coupon usage\n",
    "print(coupon_category_usage.head(10))\n"
   ]
  },
  {
   "cell_type": "code",
   "execution_count": null,
   "id": "a0db11a2-2770-46a6-b6dc-6cb851d2ef6b",
   "metadata": {},
   "outputs": [],
   "source": [
    "#normalize data"
   ]
  },
  {
   "cell_type": "code",
   "execution_count": 34,
   "id": "96643e74-a98c-4a5d-a93b-d29029603825",
   "metadata": {},
   "outputs": [
    {
     "name": "stdout",
     "output_type": "stream",
     "text": [
      "                  category  unique_usage_count\n",
      "4                  Grocery               53195\n",
      "9           Pharmaceutical               18145\n",
      "8            Packaged Meat                3591\n",
      "1   Dairy, Juices & Snacks                2136\n",
      "10           Prepared Food                1860\n",
      "13                 Seafood                1664\n",
      "6            Miscellaneous                1539\n",
      "7         Natural Products                1215\n",
      "5                     Meat                1024\n",
      "0                   Bakery                 900\n"
     ]
    }
   ],
   "source": [
    "# Count unique customer-coupon pairs to avoid duplicate counts\n",
    "coupon_category_normalized = final_merged_data.groupby([\"coupon_id\", \"category\"])[\"customer_id\"].nunique().reset_index()\n",
    "\n",
    "# Rename column for clarity\n",
    "coupon_category_normalized.rename(columns={\"customer_id\": \"unique_usage_count\"}, inplace=True)\n",
    "\n",
    "# Group by category and sum up unique coupon usage\n",
    "coupon_category_usage_normalized = coupon_category_normalized.groupby(\"category\")[\"unique_usage_count\"].sum().reset_index()\n",
    "\n",
    "# Sort by highest coupon usage\n",
    "coupon_category_usage_normalized = coupon_category_usage_normalized.sort_values(by=\"unique_usage_count\", ascending=False)\n",
    "\n",
    "# Display the top 10 categories with highest normalized coupon usage\n",
    "print(coupon_category_usage_normalized.head(10))\n"
   ]
  },
  {
   "cell_type": "code",
   "execution_count": null,
   "id": "c8a0d7c7-4f34-4194-a00a-6544424478ef",
   "metadata": {},
   "outputs": [],
   "source": [
    "#month-wise sales classification"
   ]
  },
  {
   "cell_type": "code",
   "execution_count": 36,
   "id": "94d076a7-7254-4749-87d9-15fa349859cc",
   "metadata": {},
   "outputs": [
    {
     "name": "stdout",
     "output_type": "stream",
     "text": [
      "  year_month  total_sales\n",
      "0    2012-01    176162.84\n",
      "1    2012-02    415662.99\n",
      "2    2012-03    766814.64\n",
      "3    2012-04   1083696.93\n",
      "4    2012-05   1234025.01\n",
      "5    2012-06   1308657.96\n",
      "6    2012-07   1421753.81\n",
      "7    2012-08   1485205.98\n",
      "8    2012-09   1398304.91\n",
      "9    2012-10   1455166.03\n"
     ]
    }
   ],
   "source": [
    "final_merged_data[\"date\"] = final_merged_data[\"date\"].replace(\"No Transaction\", pd.NaT)\n",
    "final_merged_data[\"date\"] = pd.to_datetime(final_merged_data[\"date\"], errors=\"coerce\")\n",
    "final_merged_data[\"year_month\"] = final_merged_data[\"date\"].dt.to_period(\"M\")\n",
    "monthly_sales = final_merged_data.groupby(\"year_month\")[\"total_sales\"].sum().reset_index()\n",
    "print(monthly_sales.head(10))\n"
   ]
  },
  {
   "cell_type": "code",
   "execution_count": null,
   "id": "4e0b2416-cebe-4bcb-8441-ab1bb792a00a",
   "metadata": {},
   "outputs": [],
   "source": [
    "#plot month-wise sales trends"
   ]
  },
  {
   "cell_type": "code",
   "execution_count": 37,
   "id": "fc1667ac-8ab6-46a8-80e0-4069dcca10e6",
   "metadata": {},
   "outputs": [
    {
     "data": {
      "image/png": "[encoded data removed]",
      "text/plain": [
       "<Figure size 1200x600 with 1 Axes>"
      ]
     },
     "metadata": {},
     "output_type": "display_data"
    }
   ],
   "source": [
    "import matplotlib.pyplot as plt  \n",
    "\n",
    "# Convert year_month to string for plotting\n",
    "monthly_sales[\"year_month\"] = monthly_sales[\"year_month\"].astype(str)\n",
    "\n",
    "# Plot sales trend\n",
    "plt.figure(figsize=(12, 6))\n",
    "plt.plot(monthly_sales[\"year_month\"], monthly_sales[\"total_sales\"], marker=\"o\", linestyle=\"-\", color=\"b\")\n",
    "\n",
    "# Formatting the chart\n",
    "plt.xticks(rotation=45)  # Rotate x-axis labels for better readability\n",
    "plt.xlabel(\"Month-Year\")\n",
    "plt.ylabel(\"Total Sales (₹)\")\n",
    "plt.title(\"Month-wise Sales Trend\")\n",
    "plt.grid(True)\n",
    "\n",
    "# Show the plot\n",
    "plt.show()\n"
   ]
  },
  {
   "cell_type": "code",
   "execution_count": null,
   "id": "85057628-9f68-4590-ba29-4183867f430c",
   "metadata": {},
   "outputs": [],
   "source": [
    "#analyzing category-wise sales contribution"
   ]
  },
  {
   "cell_type": "code",
   "execution_count": 39,
   "id": "1e2180a6-b888-4ba9-a256-e482fd9173ea",
   "metadata": {},
   "outputs": [
    {
     "name": "stdout",
     "output_type": "stream",
     "text": [
      "           category  total_sales\n",
      "4           Grocery   8351949.66\n",
      "9    Pharmaceutical   2564870.17\n",
      "8     Packaged Meat   1713501.17\n",
      "5              Meat    829427.32\n",
      "7  Natural Products    673212.64\n"
     ]
    }
   ],
   "source": [
    "# Grouping sales by category\n",
    "category_sales = final_merged_data.groupby(\"category\")[\"selling_price\"].sum().reset_index()\n",
    "category_sales.rename(columns={\"selling_price\": \"total_sales\"}, inplace=True)\n",
    "\n",
    "# Sort categories by total sales\n",
    "category_sales = category_sales.sort_values(by=\"total_sales\", ascending=False)\n",
    "print(category_sales.head())  # Check the output\n"
   ]
  },
  {
   "cell_type": "code",
   "execution_count": null,
   "id": "1cb56417-8ec9-49cf-8b35-e7e4f822ea1f",
   "metadata": {},
   "outputs": [],
   "source": [
    "#classification of coupons by product type"
   ]
  },
  {
   "cell_type": "code",
   "execution_count": 43,
   "id": "4705bbeb-c8a1-451b-9488-8d0b1fe31a00",
   "metadata": {},
   "outputs": [
    {
     "data": {
      "image/png": "[encoded data removed]",
      "text/plain": [
       "<Figure size 1200x600 with 1 Axes>"
      ]
     },
     "metadata": {},
     "output_type": "display_data"
    }
   ],
   "source": [
    "plt.figure(figsize=(12, 6))\n",
    "sns.barplot(x=\"coupon_usage_count\", y=\"category\", data=coupon_category_usage, hue=\"category\", palette=\"magma\", legend=False)  # Fix applied\n",
    "\n",
    "plt.xlabel(\"Total Coupon Usage\")\n",
    "plt.ylabel(\"Product Category\")\n",
    "plt.title(\"Coupon Usage by Product Type\")\n",
    "plt.grid(axis=\"x\")\n",
    "\n",
    "# Show the plot\n",
    "plt.show()\n"
   ]
  },
  {
   "cell_type": "code",
   "execution_count": null,
   "id": "22b8e1d8-6900-48c3-9ef9-0493fa27a09c",
   "metadata": {},
   "outputs": [],
   "source": [
    "#feature engineering"
   ]
  },
  {
   "cell_type": "code",
   "execution_count": 44,
   "id": "478d9c57-34ea-46b3-9c27-60ec51617956",
   "metadata": {},
   "outputs": [
    {
     "name": "stdout",
     "output_type": "stream",
     "text": [
      "   selling_price  total_discount  final_price  estimated_profit\n",
      "0            0.0             0.0          0.0               0.0\n",
      "1            0.0             0.0          0.0               0.0\n",
      "2            0.0             0.0          0.0               0.0\n",
      "3            0.0             0.0          0.0               0.0\n",
      "4            0.0             0.0          0.0               0.0\n",
      "5            0.0             0.0          0.0               0.0\n",
      "6            0.0             0.0          0.0               0.0\n",
      "7            0.0             0.0          0.0               0.0\n",
      "8            0.0             0.0          0.0               0.0\n",
      "9            0.0             0.0          0.0               0.0\n"
     ]
    }
   ],
   "source": [
    "# Create Total Discount column\n",
    "final_merged_data[\"total_discount\"] = final_merged_data[\"other_discount\"] + final_merged_data[\"coupon_discount\"]\n",
    "\n",
    "# Calculate final selling price after discount\n",
    "final_merged_data[\"final_price\"] = final_merged_data[\"selling_price\"] - final_merged_data[\"total_discount\"]\n",
    "\n",
    "# Estimate profit assuming 20% margin\n",
    "final_merged_data[\"estimated_profit\"] = final_merged_data[\"final_price\"] * 0.2\n",
    "\n",
    "# Display the first few rows\n",
    "print(final_merged_data[[\"selling_price\", \"total_discount\", \"final_price\", \"estimated_profit\"]].head(10))\n"
   ]
  },
  {
   "cell_type": "code",
   "execution_count": 45,
   "id": "a0088b17-37cd-4ac0-8ddf-693614ca60d8",
   "metadata": {},
   "outputs": [
    {
     "name": "stdout",
     "output_type": "stream",
     "text": [
      "       selling_price  other_discount  coupon_discount\n",
      "count   6.485485e+06    6.485485e+06     6.485485e+06\n",
      "mean    2.293132e+00   -4.726674e-01    -2.136371e-02\n",
      "std     2.136633e+01    6.460617e+00     1.033006e+00\n",
      "min     0.000000e+00   -1.175100e+03    -5.343000e+02\n",
      "25%     0.000000e+00    0.000000e+00     0.000000e+00\n",
      "50%     0.000000e+00    0.000000e+00     0.000000e+00\n",
      "75%     0.000000e+00    0.000000e+00     0.000000e+00\n",
      "max     4.593910e+03    0.000000e+00     0.000000e+00\n"
     ]
    }
   ],
   "source": [
    "print(final_merged_data[[\"selling_price\", \"other_discount\", \"coupon_discount\"]].describe())\n"
   ]
  },
  {
   "cell_type": "code",
   "execution_count": 48,
   "id": "249b1849-1e79-40a5-bda4-cfd76cb4d910",
   "metadata": {},
   "outputs": [
    {
     "name": "stdout",
     "output_type": "stream",
     "text": [
      "     selling_price  total_discount  final_price  estimated_profit\n",
      "258          45.95            0.00        45.95             9.190\n",
      "259          45.95            0.00        45.95             9.190\n",
      "316          71.24          -28.14        99.38            19.876\n",
      "337         113.63          -39.18       152.81            30.562\n",
      "338         113.63          -39.18       152.81            30.562\n",
      "369         178.10          -54.85       232.95            46.590\n",
      "521         142.48            0.00       142.48            28.496\n",
      "522          71.24            0.00        71.24            14.248\n",
      "523          71.24            0.00        71.24            14.248\n",
      "524          59.49          -11.75        71.24            14.248\n"
     ]
    }
   ],
   "source": [
    "valid_sales = final_merged_data[final_merged_data[\"selling_price\"] > 0].copy()\n",
    "valid_sales.loc[:, \"total_discount\"] = valid_sales[\"other_discount\"] + valid_sales[\"coupon_discount\"]\n",
    "valid_sales.loc[:, \"final_price\"] = valid_sales[\"selling_price\"] - valid_sales[\"total_discount\"]\n",
    "valid_sales.loc[:, \"estimated_profit\"] = valid_sales[\"final_price\"] * 0.2\n",
    "print(valid_sales[[\"selling_price\", \"total_discount\", \"final_price\", \"estimated_profit\"]].head(10))\n"
   ]
  }
 ],
 "metadata": {
  "kernelspec": {
   "display_name": "Python 3 (ipykernel)",
   "language": "python",
   "name": "python3"
  },
  "language_info": {
   "codemirror_mode": {
    "name": "ipython",
    "version": 3
   },
   "file_extension": ".py",
   "mimetype": "text/x-python",
   "name": "python",
   "nbconvert_exporter": "python",
   "pygments_lexer": "ipython3",
   "version": "3.12.7"
  }
 },
 "nbformat": 4,
 "nbformat_minor": 5
}
